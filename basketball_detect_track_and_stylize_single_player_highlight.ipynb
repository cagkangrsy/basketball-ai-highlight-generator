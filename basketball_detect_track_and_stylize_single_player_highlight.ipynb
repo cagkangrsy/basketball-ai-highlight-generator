{
  "nbformat": 4,
  "nbformat_minor": 0,
  "metadata": {
    "colab": {
      "provenance": [],
      "authorship_tag": "ABX9TyMADj9Kp0gheQjeBzLr+qpp",
      "include_colab_link": true
    },
    "kernelspec": {
      "name": "python3",
      "display_name": "Python 3"
    },
    "language_info": {
      "name": "python"
    }
  },
  "cells": [
    {
      "cell_type": "markdown",
      "metadata": {
        "id": "view-in-github",
        "colab_type": "text"
      },
      "source": [
        "<a href=\"https://colab.research.google.com/github/cagkangrsy/basketball-ai-highlight-generator/blob/main/basketball_detect_track_and_stylize_single_player_highlight.ipynb\" target=\"_parent\"><img src=\"https://colab.research.google.com/assets/colab-badge.svg\" alt=\"Open In Colab\"/></a>"
      ]
    },
    {
      "cell_type": "code",
      "execution_count": null,
      "metadata": {
        "id": "EjD9F4hgZLa0"
      },
      "outputs": [],
      "source": []
    }
  ]
}